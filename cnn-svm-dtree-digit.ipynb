{
 "cells": [
  {
   "cell_type": "code",
   "execution_count": 1,
   "metadata": {
    "_cell_guid": "b1076dfc-b9ad-4769-8c92-a6c4dae69d19",
    "_uuid": "8f2839f25d086af736a60e9eeb907d3b93b6e0e5",
    "execution": {
     "iopub.execute_input": "2021-03-28T14:53:26.307184Z",
     "iopub.status.busy": "2021-03-28T14:53:26.306056Z",
     "iopub.status.idle": "2021-03-28T14:53:26.313387Z",
     "shell.execute_reply": "2021-03-28T14:53:26.313903Z"
    },
    "papermill": {
     "duration": 0.029502,
     "end_time": "2021-03-28T14:53:26.314266",
     "exception": false,
     "start_time": "2021-03-28T14:53:26.284764",
     "status": "completed"
    },
    "tags": []
   },
   "outputs": [
    {
     "name": "stdout",
     "output_type": "stream",
     "text": [
      "/kaggle/input/digit-recognizer/sample_submission.csv\n",
      "/kaggle/input/digit-recognizer/train.csv\n",
      "/kaggle/input/digit-recognizer/test.csv\n"
     ]
    }
   ],
   "source": [
    "# This Python 3 environment comes with many helpful analytics libraries installed\n",
    "# It is defined by the kaggle/python Docker image: https://github.com/kaggle/docker-python\n",
    "# For example, here's several helpful packages to load\n",
    "\n",
    "import numpy as np # linear algebra\n",
    "import pandas as pd # data processing, CSV file I/O (e.g. pd.read_csv)\n",
    "\n",
    "# Input data files are available in the read-only \"../input/\" directory\n",
    "# For example, running this (by clicking run or pressing Shift+Enter) will list all files under the input directory\n",
    "\n",
    "import os\n",
    "for dirname, _, filenames in os.walk('/kaggle/input'):\n",
    "    for filename in filenames:\n",
    "        print(os.path.join(dirname, filename))\n",
    "\n",
    "# You can write up to 20GB to the current directory (/kaggle/working/) that gets preserved as output when you create a version using \"Save & Run All\" \n",
    "# You can also write temporary files to /kaggle/temp/, but they won't be saved outside of the current session\\\n",
    "\n",
    "#  Viết, đọc bộ dữ liệu trực tiếp trên kaggle"
   ]
  },
  {
   "cell_type": "code",
   "execution_count": 2,
   "metadata": {
    "execution": {
     "iopub.execute_input": "2021-03-28T14:53:26.346950Z",
     "iopub.status.busy": "2021-03-28T14:53:26.346196Z",
     "iopub.status.idle": "2021-03-28T14:53:33.433372Z",
     "shell.execute_reply": "2021-03-28T14:53:33.433931Z"
    },
    "papermill": {
     "duration": 7.107113,
     "end_time": "2021-03-28T14:53:33.434126",
     "exception": false,
     "start_time": "2021-03-28T14:53:26.327013",
     "status": "completed"
    },
    "tags": []
   },
   "outputs": [
    {
     "name": "stdout",
     "output_type": "stream",
     "text": [
      "(42000, 785) (28000, 784)\n"
     ]
    },
    {
     "data": {
      "text/html": [
       "<div>\n",
       "<style scoped>\n",
       "    .dataframe tbody tr th:only-of-type {\n",
       "        vertical-align: middle;\n",
       "    }\n",
       "\n",
       "    .dataframe tbody tr th {\n",
       "        vertical-align: top;\n",
       "    }\n",
       "\n",
       "    .dataframe thead th {\n",
       "        text-align: right;\n",
       "    }\n",
       "</style>\n",
       "<table border=\"1\" class=\"dataframe\">\n",
       "  <thead>\n",
       "    <tr style=\"text-align: right;\">\n",
       "      <th></th>\n",
       "      <th>label</th>\n",
       "      <th>pixel0</th>\n",
       "      <th>pixel1</th>\n",
       "      <th>pixel2</th>\n",
       "      <th>pixel3</th>\n",
       "      <th>pixel4</th>\n",
       "      <th>pixel5</th>\n",
       "      <th>pixel6</th>\n",
       "      <th>pixel7</th>\n",
       "      <th>pixel8</th>\n",
       "      <th>...</th>\n",
       "      <th>pixel774</th>\n",
       "      <th>pixel775</th>\n",
       "      <th>pixel776</th>\n",
       "      <th>pixel777</th>\n",
       "      <th>pixel778</th>\n",
       "      <th>pixel779</th>\n",
       "      <th>pixel780</th>\n",
       "      <th>pixel781</th>\n",
       "      <th>pixel782</th>\n",
       "      <th>pixel783</th>\n",
       "    </tr>\n",
       "  </thead>\n",
       "  <tbody>\n",
       "    <tr>\n",
       "      <th>0</th>\n",
       "      <td>1</td>\n",
       "      <td>0</td>\n",
       "      <td>0</td>\n",
       "      <td>0</td>\n",
       "      <td>0</td>\n",
       "      <td>0</td>\n",
       "      <td>0</td>\n",
       "      <td>0</td>\n",
       "      <td>0</td>\n",
       "      <td>0</td>\n",
       "      <td>...</td>\n",
       "      <td>0</td>\n",
       "      <td>0</td>\n",
       "      <td>0</td>\n",
       "      <td>0</td>\n",
       "      <td>0</td>\n",
       "      <td>0</td>\n",
       "      <td>0</td>\n",
       "      <td>0</td>\n",
       "      <td>0</td>\n",
       "      <td>0</td>\n",
       "    </tr>\n",
       "    <tr>\n",
       "      <th>1</th>\n",
       "      <td>0</td>\n",
       "      <td>0</td>\n",
       "      <td>0</td>\n",
       "      <td>0</td>\n",
       "      <td>0</td>\n",
       "      <td>0</td>\n",
       "      <td>0</td>\n",
       "      <td>0</td>\n",
       "      <td>0</td>\n",
       "      <td>0</td>\n",
       "      <td>...</td>\n",
       "      <td>0</td>\n",
       "      <td>0</td>\n",
       "      <td>0</td>\n",
       "      <td>0</td>\n",
       "      <td>0</td>\n",
       "      <td>0</td>\n",
       "      <td>0</td>\n",
       "      <td>0</td>\n",
       "      <td>0</td>\n",
       "      <td>0</td>\n",
       "    </tr>\n",
       "    <tr>\n",
       "      <th>2</th>\n",
       "      <td>1</td>\n",
       "      <td>0</td>\n",
       "      <td>0</td>\n",
       "      <td>0</td>\n",
       "      <td>0</td>\n",
       "      <td>0</td>\n",
       "      <td>0</td>\n",
       "      <td>0</td>\n",
       "      <td>0</td>\n",
       "      <td>0</td>\n",
       "      <td>...</td>\n",
       "      <td>0</td>\n",
       "      <td>0</td>\n",
       "      <td>0</td>\n",
       "      <td>0</td>\n",
       "      <td>0</td>\n",
       "      <td>0</td>\n",
       "      <td>0</td>\n",
       "      <td>0</td>\n",
       "      <td>0</td>\n",
       "      <td>0</td>\n",
       "    </tr>\n",
       "    <tr>\n",
       "      <th>3</th>\n",
       "      <td>4</td>\n",
       "      <td>0</td>\n",
       "      <td>0</td>\n",
       "      <td>0</td>\n",
       "      <td>0</td>\n",
       "      <td>0</td>\n",
       "      <td>0</td>\n",
       "      <td>0</td>\n",
       "      <td>0</td>\n",
       "      <td>0</td>\n",
       "      <td>...</td>\n",
       "      <td>0</td>\n",
       "      <td>0</td>\n",
       "      <td>0</td>\n",
       "      <td>0</td>\n",
       "      <td>0</td>\n",
       "      <td>0</td>\n",
       "      <td>0</td>\n",
       "      <td>0</td>\n",
       "      <td>0</td>\n",
       "      <td>0</td>\n",
       "    </tr>\n",
       "    <tr>\n",
       "      <th>4</th>\n",
       "      <td>0</td>\n",
       "      <td>0</td>\n",
       "      <td>0</td>\n",
       "      <td>0</td>\n",
       "      <td>0</td>\n",
       "      <td>0</td>\n",
       "      <td>0</td>\n",
       "      <td>0</td>\n",
       "      <td>0</td>\n",
       "      <td>0</td>\n",
       "      <td>...</td>\n",
       "      <td>0</td>\n",
       "      <td>0</td>\n",
       "      <td>0</td>\n",
       "      <td>0</td>\n",
       "      <td>0</td>\n",
       "      <td>0</td>\n",
       "      <td>0</td>\n",
       "      <td>0</td>\n",
       "      <td>0</td>\n",
       "      <td>0</td>\n",
       "    </tr>\n",
       "  </tbody>\n",
       "</table>\n",
       "<p>5 rows × 785 columns</p>\n",
       "</div>"
      ],
      "text/plain": [
       "   label  pixel0  pixel1  pixel2  pixel3  pixel4  pixel5  pixel6  pixel7  \\\n",
       "0      1       0       0       0       0       0       0       0       0   \n",
       "1      0       0       0       0       0       0       0       0       0   \n",
       "2      1       0       0       0       0       0       0       0       0   \n",
       "3      4       0       0       0       0       0       0       0       0   \n",
       "4      0       0       0       0       0       0       0       0       0   \n",
       "\n",
       "   pixel8  ...  pixel774  pixel775  pixel776  pixel777  pixel778  pixel779  \\\n",
       "0       0  ...         0         0         0         0         0         0   \n",
       "1       0  ...         0         0         0         0         0         0   \n",
       "2       0  ...         0         0         0         0         0         0   \n",
       "3       0  ...         0         0         0         0         0         0   \n",
       "4       0  ...         0         0         0         0         0         0   \n",
       "\n",
       "   pixel780  pixel781  pixel782  pixel783  \n",
       "0         0         0         0         0  \n",
       "1         0         0         0         0  \n",
       "2         0         0         0         0  \n",
       "3         0         0         0         0  \n",
       "4         0         0         0         0  \n",
       "\n",
       "[5 rows x 785 columns]"
      ]
     },
     "execution_count": 2,
     "metadata": {},
     "output_type": "execute_result"
    }
   ],
   "source": [
    "train=pd.read_csv(\"/kaggle/input/digit-recognizer/train.csv\")\n",
    "test=pd.read_csv(\"/kaggle/input/digit-recognizer/test.csv\")\n",
    "print(train.shape, test.shape)\n",
    "train.head()"
   ]
  },
  {
   "cell_type": "code",
   "execution_count": 3,
   "metadata": {
    "execution": {
     "iopub.execute_input": "2021-03-28T14:53:33.580387Z",
     "iopub.status.busy": "2021-03-28T14:53:33.579023Z",
     "iopub.status.idle": "2021-03-28T14:53:33.582725Z",
     "shell.execute_reply": "2021-03-28T14:53:33.582063Z"
    },
    "papermill": {
     "duration": 0.135393,
     "end_time": "2021-03-28T14:53:33.582880",
     "exception": false,
     "start_time": "2021-03-28T14:53:33.447487",
     "status": "completed"
    },
    "tags": []
   },
   "outputs": [],
   "source": [
    "Y_train=train[\"label\"]\n",
    "X_train=train.drop(labels=[\"label\"],axis=1)  #  xóa cột label\n"
   ]
  },
  {
   "cell_type": "code",
   "execution_count": 4,
   "metadata": {
    "execution": {
     "iopub.execute_input": "2021-03-28T14:53:33.615655Z",
     "iopub.status.busy": "2021-03-28T14:53:33.614975Z",
     "iopub.status.idle": "2021-03-28T14:53:33.760876Z",
     "shell.execute_reply": "2021-03-28T14:53:33.761427Z"
    },
    "papermill": {
     "duration": 0.165445,
     "end_time": "2021-03-28T14:53:33.761642",
     "exception": false,
     "start_time": "2021-03-28T14:53:33.596197",
     "status": "completed"
    },
    "tags": []
   },
   "outputs": [
    {
     "name": "stdout",
     "output_type": "stream",
     "text": [
      "x_train:  (42000, 784)\n",
      "test shape:  (28000, 784)\n"
     ]
    }
   ],
   "source": [
    "X_train=X_train/255.0\n",
    "test=test/255.0\n",
    "#  /255.0 vì 2 lý do, một để giảm trọng số cho tập dữ liệu nhằm đơn giản tính toán => đưa về 0 và 1, \n",
    "# hai là vì pixel tối đa của ảnh là 255 \n",
    "print(\"x_train: \",X_train.shape)\n",
    "print(\"test shape: \",test.shape)"
   ]
  },
  {
   "cell_type": "code",
   "execution_count": 5,
   "metadata": {
    "execution": {
     "iopub.execute_input": "2021-03-28T14:53:33.798468Z",
     "iopub.status.busy": "2021-03-28T14:53:33.797664Z",
     "iopub.status.idle": "2021-03-28T14:53:40.911768Z",
     "shell.execute_reply": "2021-03-28T14:53:40.912302Z"
    },
    "papermill": {
     "duration": 7.137169,
     "end_time": "2021-03-28T14:53:40.912533",
     "exception": false,
     "start_time": "2021-03-28T14:53:33.775364",
     "status": "completed"
    },
    "tags": []
   },
   "outputs": [
    {
     "name": "stdout",
     "output_type": "stream",
     "text": [
      "x_train shape:  (42000, 28, 28, 1)\n",
      "test shape:  (28000, 28, 28, 1)\n"
     ]
    }
   ],
   "source": [
    "#reshape \n",
    "# bước này để thay đổi chiều cho đầu vào để phù hợp với mô hình sử dụng đào tạo và số chiều của ảnh (xám:1, màu:3) \n",
    "X_train_cnn=X_train.values.reshape(-1,28,28,1)\n",
    "test_cnn=test.values.reshape(-1,28,28,1)\n",
    "print(\"x_train shape: \",X_train_cnn.shape)\n",
    "print(\"test shape: \",test_cnn.shape)\n",
    "\n",
    "#label encoding\n",
    "from keras.utils.np_utils import to_categorical #one-hot\n",
    "Y_train_cnn=to_categorical(Y_train,num_classes=10) # chuyển vector matrix Y_train thành một ma trận từ 0 đến num_classes"
   ]
  },
  {
   "cell_type": "code",
   "execution_count": 6,
   "metadata": {
    "execution": {
     "iopub.execute_input": "2021-03-28T14:53:40.947956Z",
     "iopub.status.busy": "2021-03-28T14:53:40.946835Z",
     "iopub.status.idle": "2021-03-28T14:53:42.387293Z",
     "shell.execute_reply": "2021-03-28T14:53:42.386655Z"
    },
    "papermill": {
     "duration": 1.459172,
     "end_time": "2021-03-28T14:53:42.387476",
     "exception": false,
     "start_time": "2021-03-28T14:53:40.928304",
     "status": "completed"
    },
    "tags": []
   },
   "outputs": [
    {
     "name": "stdout",
     "output_type": "stream",
     "text": [
      "x_train shape (29400, 28, 28, 1)\n",
      "x_test shape (12600, 28, 28, 1)\n",
      "y_train shape (29400, 10)\n",
      "y_test shape (12600, 10)\n"
     ]
    }
   ],
   "source": [
    "from sklearn.model_selection import train_test_split\n",
    "X_train_cnn,X_val_cnn,Y_train_cnn,Y_val_cnn=train_test_split(X_train_cnn,Y_train_cnn,test_size=0.3,random_state=2)\n",
    "#chia dữ liệu 70%  train và 30% test\n",
    "print(\"x_train shape\",X_train_cnn.shape)\n",
    "print(\"x_test shape\",X_val_cnn.shape)\n",
    "print(\"y_train shape\",Y_train_cnn.shape)\n",
    "print(\"y_test shape\",Y_val_cnn.shape)"
   ]
  },
  {
   "cell_type": "code",
   "execution_count": 7,
   "metadata": {
    "execution": {
     "iopub.execute_input": "2021-03-28T14:53:42.420602Z",
     "iopub.status.busy": "2021-03-28T14:53:42.419857Z",
     "iopub.status.idle": "2021-03-28T14:53:42.505515Z",
     "shell.execute_reply": "2021-03-28T14:53:42.505979Z"
    },
    "papermill": {
     "duration": 0.104094,
     "end_time": "2021-03-28T14:53:42.506210",
     "exception": false,
     "start_time": "2021-03-28T14:53:42.402116",
     "status": "completed"
    },
    "tags": []
   },
   "outputs": [
    {
     "data": {
      "image/png": "[encoded data removed]",
      "text/plain": [
       "<Figure size 432x288 with 1 Axes>"
      ]
     },
     "metadata": {
      "needs_background": "light"
     },
     "output_type": "display_data"
    }
   ],
   "source": [
    "import matplotlib.pyplot as plt\n",
    "plt.imshow(X_train_cnn[10][:,:,0],cmap=\"gray\")\n",
    "plt.axis(\"off\")\n",
    "plt.show()"
   ]
  },
  {
   "cell_type": "code",
   "execution_count": 8,
   "metadata": {
    "execution": {
     "iopub.execute_input": "2021-03-28T14:53:42.540511Z",
     "iopub.status.busy": "2021-03-28T14:53:42.539786Z",
     "iopub.status.idle": "2021-03-28T14:53:42.783068Z",
     "shell.execute_reply": "2021-03-28T14:53:42.782227Z"
    },
    "papermill": {
     "duration": 0.261683,
     "end_time": "2021-03-28T14:53:42.783249",
     "exception": false,
     "start_time": "2021-03-28T14:53:42.521566",
     "status": "completed"
    },
    "tags": []
   },
   "outputs": [],
   "source": [
    "import numpy as np\n",
    "import matplotlib.pyplot as plt\n",
    "import seaborn as sns\n",
    "from keras import models\n",
    "from keras import layers\n",
    "from keras import optimizers\n",
    "from keras.utils import to_categorical\n",
    "\n",
    "#build model CNN\n",
    "model_cnn = models.Sequential()\n",
    "\n",
    "model_cnn.add(layers.Conv2D(16, (3,3), activation='relu', input_shape=(28,28,1)))\n",
    "#filters=16 tức số chiều của không gian đầu ra (tức là số lượng bộ lọc đầu ra trong bước tích chập).\n",
    "#strides=(3,3) xác định các bước của tích chập dọc theo chiều cao và chiều rộng, tức là mỗi lần nó quét 1 ma trận 3x3 trên ma trận\n",
    "#hình ảnh từ trái qua phải từ trên xuống dưới\n",
    "#activation='relu' sử dụng hàm kích hoạt ReLU để lọc các giá trị < 0\n",
    "\n",
    "model_cnn.add(layers.MaxPooling2D(strides=(2, 2)))\n",
    "#bước này để giảm ma trận đầu vào và rút trích đặc trưng bằng cách lấy giá trị lớn nhất trong cửa sổ(ma trận) strides khi nó quét qua \n",
    "\n",
    "model_cnn.add(layers.Conv2D(32, (3, 3), activation='relu'))\n",
    "model_cnn.add(layers.MaxPooling2D(strides=(2,2)))\n",
    "#các bước này tương tự như trên, mục đích cho việc lặp đi lặp lại nói chung là để giảm ma trận đầu vào\n",
    "#thành một ma trận có kích thước nhỏ nhằm giảm độ phức tạp, rút ngắn thời gian tính toán cũng như kích thước cho mô hình\n",
    "#nhưng vẫn giữ lại được các đặc trưng quan trọng. \n",
    "\n",
    "model_cnn.add(layers.Conv2D(64, (3, 3), activation='relu'))\n",
    "model_cnn.add(layers.MaxPooling2D(strides=(2,2)))\n",
    "\n",
    "model_cnn.add(layers.Flatten())\n",
    "#dữ liệu được làm phẳng để tránh trường hợp overfit(quá khớp) cho dữ liệu\n",
    "\n",
    "model_cnn.add(layers.Dense(1024, activation='relu'))\n",
    "#là một fully connected layer, tức toàn bộ các unit của layer trước đó được nối với toàn bộ các unit của layer hiện tại\n",
    "\n",
    "model_cnn.add(layers.Dense(10, activation='softmax'))\n",
    "#activation='softmax' chuyển đổi một vectơ thực thành một vectơ xác suất phân loại\n",
    "#thường được sử dụng làm kích hoạt cho lớp cuối cùng của mạng phân loại vì kết quả có thể được hiểu là phân phối xác suất."
   ]
  },
  {
   "cell_type": "code",
   "execution_count": 9,
   "metadata": {
    "execution": {
     "iopub.execute_input": "2021-03-28T14:53:42.820588Z",
     "iopub.status.busy": "2021-03-28T14:53:42.819708Z",
     "iopub.status.idle": "2021-03-28T14:53:42.831219Z",
     "shell.execute_reply": "2021-03-28T14:53:42.830635Z"
    },
    "papermill": {
     "duration": 0.032521,
     "end_time": "2021-03-28T14:53:42.831403",
     "exception": false,
     "start_time": "2021-03-28T14:53:42.798882",
     "status": "completed"
    },
    "tags": []
   },
   "outputs": [
    {
     "name": "stdout",
     "output_type": "stream",
     "text": [
      "Model: \"sequential\"\n",
      "_________________________________________________________________\n",
      "Layer (type)                 Output Shape              Param #   \n",
      "=================================================================\n",
      "conv2d (Conv2D)              (None, 26, 26, 16)        160       \n",
      "_________________________________________________________________\n",
      "max_pooling2d (MaxPooling2D) (None, 13, 13, 16)        0         \n",
      "_________________________________________________________________\n",
      "conv2d_1 (Conv2D)            (None, 11, 11, 32)        4640      \n",
      "_________________________________________________________________\n",
      "max_pooling2d_1 (MaxPooling2 (None, 5, 5, 32)          0         \n",
      "_________________________________________________________________\n",
      "conv2d_2 (Conv2D)            (None, 3, 3, 64)          18496     \n",
      "_________________________________________________________________\n",
      "max_pooling2d_2 (MaxPooling2 (None, 1, 1, 64)          0         \n",
      "_________________________________________________________________\n",
      "flatten (Flatten)            (None, 64)                0         \n",
      "_________________________________________________________________\n",
      "dense (Dense)                (None, 1024)              66560     \n",
      "_________________________________________________________________\n",
      "dense_1 (Dense)              (None, 10)                10250     \n",
      "=================================================================\n",
      "Total params: 100,106\n",
      "Trainable params: 100,106\n",
      "Non-trainable params: 0\n",
      "_________________________________________________________________\n"
     ]
    }
   ],
   "source": [
    "model_cnn.summary()"
   ]
  },
  {
   "cell_type": "code",
   "execution_count": 10,
   "metadata": {
    "execution": {
     "iopub.execute_input": "2021-03-28T14:53:42.872393Z",
     "iopub.status.busy": "2021-03-28T14:53:42.871264Z",
     "iopub.status.idle": "2021-03-28T14:53:42.875233Z",
     "shell.execute_reply": "2021-03-28T14:53:42.874662Z"
    },
    "papermill": {
     "duration": 0.026622,
     "end_time": "2021-03-28T14:53:42.875402",
     "exception": false,
     "start_time": "2021-03-28T14:53:42.848780",
     "status": "completed"
    },
    "tags": []
   },
   "outputs": [],
   "source": [
    "batch_size  = 32\n",
    "epochs =  30"
   ]
  },
  {
   "cell_type": "code",
   "execution_count": 11,
   "metadata": {
    "execution": {
     "iopub.execute_input": "2021-03-28T14:53:42.918722Z",
     "iopub.status.busy": "2021-03-28T14:53:42.917640Z",
     "iopub.status.idle": "2021-03-28T15:00:34.827146Z",
     "shell.execute_reply": "2021-03-28T15:00:34.827833Z"
    },
    "papermill": {
     "duration": 411.935072,
     "end_time": "2021-03-28T15:00:34.828219",
     "exception": false,
     "start_time": "2021-03-28T14:53:42.893147",
     "status": "completed"
    },
    "tags": []
   },
   "outputs": [
    {
     "name": "stdout",
     "output_type": "stream",
     "text": [
      "Epoch 1/30\n",
      "919/919 [==============================] - 15s 16ms/step - loss: 0.6327 - accuracy: 0.8006 - val_loss: 0.1294 - val_accuracy: 0.9602\n",
      "Epoch 2/30\n",
      "919/919 [==============================] - 14s 15ms/step - loss: 0.1153 - accuracy: 0.9640 - val_loss: 0.0940 - val_accuracy: 0.9706\n",
      "Epoch 3/30\n",
      "919/919 [==============================] - 14s 15ms/step - loss: 0.0784 - accuracy: 0.9749 - val_loss: 0.0749 - val_accuracy: 0.9764\n",
      "Epoch 4/30\n",
      "919/919 [==============================] - 13s 14ms/step - loss: 0.0588 - accuracy: 0.9821 - val_loss: 0.0734 - val_accuracy: 0.9770\n",
      "Epoch 5/30\n",
      "919/919 [==============================] - 14s 15ms/step - loss: 0.0463 - accuracy: 0.9848 - val_loss: 0.0755 - val_accuracy: 0.9784\n",
      "Epoch 6/30\n",
      "919/919 [==============================] - 14s 15ms/step - loss: 0.0382 - accuracy: 0.9870 - val_loss: 0.0915 - val_accuracy: 0.9717\n",
      "Epoch 7/30\n",
      "919/919 [==============================] - 14s 15ms/step - loss: 0.0349 - accuracy: 0.9897 - val_loss: 0.0764 - val_accuracy: 0.9774\n",
      "Epoch 8/30\n",
      "919/919 [==============================] - 14s 16ms/step - loss: 0.0312 - accuracy: 0.9899 - val_loss: 0.0937 - val_accuracy: 0.9739\n",
      "Epoch 9/30\n",
      "919/919 [==============================] - 14s 15ms/step - loss: 0.0233 - accuracy: 0.9923 - val_loss: 0.0882 - val_accuracy: 0.9772\n",
      "Epoch 10/30\n",
      "919/919 [==============================] - 14s 15ms/step - loss: 0.0219 - accuracy: 0.9929 - val_loss: 0.0665 - val_accuracy: 0.9817\n",
      "Epoch 11/30\n",
      "919/919 [==============================] - 14s 15ms/step - loss: 0.0177 - accuracy: 0.9939 - val_loss: 0.0826 - val_accuracy: 0.9805\n",
      "Epoch 12/30\n",
      "919/919 [==============================] - 17s 19ms/step - loss: 0.0170 - accuracy: 0.9944 - val_loss: 0.0981 - val_accuracy: 0.9760\n",
      "Epoch 13/30\n",
      "919/919 [==============================] - 15s 17ms/step - loss: 0.0156 - accuracy: 0.9945 - val_loss: 0.0826 - val_accuracy: 0.9787\n",
      "Epoch 14/30\n",
      "919/919 [==============================] - 13s 15ms/step - loss: 0.0197 - accuracy: 0.9937 - val_loss: 0.0688 - val_accuracy: 0.9830\n",
      "Epoch 15/30\n",
      "919/919 [==============================] - 14s 15ms/step - loss: 0.0129 - accuracy: 0.9953 - val_loss: 0.0817 - val_accuracy: 0.9813\n",
      "Epoch 16/30\n",
      "919/919 [==============================] - 13s 14ms/step - loss: 0.0131 - accuracy: 0.9954 - val_loss: 0.0816 - val_accuracy: 0.9823\n",
      "Epoch 17/30\n",
      "919/919 [==============================] - 14s 15ms/step - loss: 0.0119 - accuracy: 0.9965 - val_loss: 0.0925 - val_accuracy: 0.9783\n",
      "Epoch 18/30\n",
      "919/919 [==============================] - 13s 14ms/step - loss: 0.0103 - accuracy: 0.9968 - val_loss: 0.1147 - val_accuracy: 0.9757\n",
      "Epoch 19/30\n",
      "919/919 [==============================] - 13s 14ms/step - loss: 0.0163 - accuracy: 0.9948 - val_loss: 0.0945 - val_accuracy: 0.9809\n",
      "Epoch 20/30\n",
      "919/919 [==============================] - 13s 14ms/step - loss: 0.0099 - accuracy: 0.9969 - val_loss: 0.0947 - val_accuracy: 0.9796\n",
      "Epoch 21/30\n",
      "919/919 [==============================] - 13s 15ms/step - loss: 0.0083 - accuracy: 0.9977 - val_loss: 0.0841 - val_accuracy: 0.9841\n",
      "Epoch 22/30\n",
      "919/919 [==============================] - 13s 14ms/step - loss: 0.0096 - accuracy: 0.9966 - val_loss: 0.0914 - val_accuracy: 0.9812\n",
      "Epoch 23/30\n",
      "919/919 [==============================] - 13s 14ms/step - loss: 0.0051 - accuracy: 0.9986 - val_loss: 0.1069 - val_accuracy: 0.9826\n",
      "Epoch 24/30\n",
      "919/919 [==============================] - 13s 14ms/step - loss: 0.0137 - accuracy: 0.9957 - val_loss: 0.0871 - val_accuracy: 0.9830\n",
      "Epoch 25/30\n",
      "919/919 [==============================] - 13s 14ms/step - loss: 0.0052 - accuracy: 0.9978 - val_loss: 0.1022 - val_accuracy: 0.9801\n",
      "Epoch 26/30\n",
      "919/919 [==============================] - 13s 14ms/step - loss: 0.0091 - accuracy: 0.9969 - val_loss: 0.1157 - val_accuracy: 0.9804\n",
      "Epoch 27/30\n",
      "919/919 [==============================] - 13s 15ms/step - loss: 0.0064 - accuracy: 0.9983 - val_loss: 0.1139 - val_accuracy: 0.9817\n",
      "Epoch 28/30\n",
      "919/919 [==============================] - 13s 14ms/step - loss: 0.0070 - accuracy: 0.9974 - val_loss: 0.0849 - val_accuracy: 0.9848\n",
      "Epoch 29/30\n",
      "919/919 [==============================] - 13s 14ms/step - loss: 0.0061 - accuracy: 0.9977 - val_loss: 0.0978 - val_accuracy: 0.9826\n",
      "Epoch 30/30\n",
      "919/919 [==============================] - 13s 14ms/step - loss: 0.0072 - accuracy: 0.9973 - val_loss: 0.0948 - val_accuracy: 0.9821\n"
     ]
    }
   ],
   "source": [
    "model_cnn.compile(optimizer = \"Adam\", loss = \"categorical_crossentropy\", metrics = [\"accuracy\"])\n",
    "#optimizer=\"Adam\" trình tối ưu hóa triển khai thuật toán Adam\n",
    "#loss=\"categorical_crossentropy\" để tính toán sự mất mát chéo giữa các nhãn và các dự đoán\n",
    "#metrics=[\"accuracy\"] tính tần suất dự đoán các nhãn bằng nhau\n",
    "\n",
    "history=model_cnn.fit(X_train_cnn,Y_train_cnn,batch_size=batch_size,epochs=epochs,validation_data=(X_val_cnn,Y_val_cnn))\n",
    "#train mô hình với kích thước là 32 bộ cho mỗi lượt trên một vòng lặp và lặp 30 lần\n",
    "# acc  = 0.9973"
   ]
  },
  {
   "cell_type": "code",
   "execution_count": 12,
   "metadata": {
    "execution": {
     "iopub.execute_input": "2021-03-28T15:00:38.935434Z",
     "iopub.status.busy": "2021-03-28T15:00:38.934752Z",
     "iopub.status.idle": "2021-03-28T15:00:39.290515Z",
     "shell.execute_reply": "2021-03-28T15:00:39.290999Z"
    },
    "papermill": {
     "duration": 2.410879,
     "end_time": "2021-03-28T15:00:39.291207",
     "exception": false,
     "start_time": "2021-03-28T15:00:36.880328",
     "status": "completed"
    },
    "tags": []
   },
   "outputs": [
    {
     "name": "stdout",
     "output_type": "stream",
     "text": [
      "Chart of model\n"
     ]
    },
    {
     "data": {
      "image/png": "[encoded data removed]",
      "text/plain": [
       "<Figure size 432x288 with 1 Axes>"
      ]
     },
     "metadata": {
      "needs_background": "light"
     },
     "output_type": "display_data"
    },
    {
     "data": {
      "image/png": "[encoded data removed]",
      "text/plain": [
       "<Figure size 432x288 with 1 Axes>"
      ]
     },
     "metadata": {
      "needs_background": "light"
     },
     "output_type": "display_data"
    }
   ],
   "source": [
    "acc = history.history[\"accuracy\"]\n",
    "val_acc = history.history[\"val_accuracy\"]\n",
    "loss = history.history[\"loss\"]\n",
    "val_loss = history.history[\"val_loss\"]\n",
    "\n",
    "epochs = range(1, len(acc) + 1)\n",
    "\n",
    "plt.plot(epochs, acc, \"bo\", label = \"Accurracy : \")\n",
    "plt.plot(epochs, val_acc, \"b\", label = \"Val_accuracy : \")\n",
    "print(\"Chart of model\")\n",
    "plt.legend()\n",
    "\n",
    "plt.figure()\n",
    "\n",
    "plt.plot(epochs, loss, \"bo\", label = \"Loss : \")\n",
    "plt.plot(epochs, val_loss, \"b\", label = \"Val_loss : \")\n",
    "\n",
    "plt.legend()\n",
    "\n",
    "\n",
    "plt.show()\n",
    "\n",
    "#Ghi lại lịch sử chạy và vẽ biểu đồ cho từng vòng với các accuracy, val_accuracy và loss, val_loss"
   ]
  },
  {
   "cell_type": "code",
   "execution_count": null,
   "metadata": {},
   "outputs": [],
   "source": [
    "#chạy dự đoán cho tập test_cnn và lưu vào file csv và đạt 0.98053 cho mô hình\n",
    "preds = model_cnn.predict(test_cnn)\n",
    "labels = [np.argmax(x) for x in preds]\n",
    "ids = [x+1 for x in range(len(preds))]\n",
    "\n",
    "sub = pd.DataFrame()\n",
    "sub['ImageId'] = ids\n",
    "sub['Label'] = labels\n",
    "\n",
    "sub.to_csv('submission.csv', index=False)"
   ]
  },
  {
   "cell_type": "markdown",
   "metadata": {
    "papermill": {
     "duration": 2.02565,
     "end_time": "2021-03-28T15:00:43.281120",
     "exception": false,
     "start_time": "2021-03-28T15:00:41.255470",
     "status": "completed"
    },
    "tags": []
   },
   "source": [
    "**SVM and Decision Tree Model**"
   ]
  },
  {
   "cell_type": "code",
   "execution_count": 13,
   "metadata": {
    "execution": {
     "iopub.execute_input": "2021-03-28T15:00:47.243298Z",
     "iopub.status.busy": "2021-03-28T15:00:47.242510Z",
     "iopub.status.idle": "2021-03-28T15:00:47.867608Z",
     "shell.execute_reply": "2021-03-28T15:00:47.868117Z"
    },
    "papermill": {
     "duration": 2.616946,
     "end_time": "2021-03-28T15:00:47.868359",
     "exception": false,
     "start_time": "2021-03-28T15:00:45.251413",
     "status": "completed"
    },
    "tags": []
   },
   "outputs": [],
   "source": [
    "from sklearn import svm\n",
    "from sklearn import tree\n",
    "from sklearn.model_selection import train_test_split\n",
    "from sklearn.metrics import accuracy_score\n",
    "\n",
    "X_train_  =  X_train\n",
    "test_  =  test\n",
    "Y_train_  =  Y_train\n",
    "\n",
    "X_train_,X_val_,Y_train_,Y_val_=train_test_split(X_train_,Y_train_,test_size=0.3,random_state=2)\n",
    "#chia dữ liệu thành 70% train và 30% test\n",
    "#do ma trận đầu vào của CNN khác 2 mô hình nên thực hiện chia lại\n",
    "#svm và decision tree có cùng đầu vào nên sử dụng cùng tập train và test cho cả 2 mô hình "
   ]
  },
  {
   "cell_type": "code",
   "execution_count": 14,
   "metadata": {
    "execution": {
     "iopub.execute_input": "2021-03-28T15:00:51.935104Z",
     "iopub.status.busy": "2021-03-28T15:00:51.933675Z",
     "iopub.status.idle": "2021-03-28T15:03:50.082764Z",
     "shell.execute_reply": "2021-03-28T15:03:50.082108Z"
    },
    "papermill": {
     "duration": 180.196372,
     "end_time": "2021-03-28T15:03:50.082962",
     "exception": false,
     "start_time": "2021-03-28T15:00:49.886590",
     "status": "completed"
    },
    "tags": []
   },
   "outputs": [],
   "source": [
    "model_svm = svm.SVC(kernel='poly')\n",
    "#dùng hàm nhân poly\n",
    "model_svm.fit(X_train_, Y_train_)\n",
    "y_pred_svm = model_svm.predict(X_val_)"
   ]
  },
  {
   "cell_type": "code",
   "execution_count": 15,
   "metadata": {
    "execution": {
     "iopub.execute_input": "2021-03-28T15:03:54.032853Z",
     "iopub.status.busy": "2021-03-28T15:03:54.032086Z",
     "iopub.status.idle": "2021-03-28T15:03:54.038958Z",
     "shell.execute_reply": "2021-03-28T15:03:54.039745Z"
    },
    "papermill": {
     "duration": 1.979017,
     "end_time": "2021-03-28T15:03:54.040028",
     "exception": false,
     "start_time": "2021-03-28T15:03:52.061011",
     "status": "completed"
    },
    "tags": []
   },
   "outputs": [
    {
     "name": "stdout",
     "output_type": "stream",
     "text": [
      "hold-out: 0.970\n"
     ]
    }
   ],
   "source": [
    "print(\"hold-out: %.3f\" % accuracy_score(Y_val_, y_pred_svm))\n",
    "#dùng nghi thức hold-out để đánh giá cho 2 mô hình\n",
    "#hold-out: 0.970"
   ]
  },
  {
   "cell_type": "code",
   "execution_count": 16,
   "metadata": {
    "execution": {
     "iopub.execute_input": "2021-03-28T15:03:58.122203Z",
     "iopub.status.busy": "2021-03-28T15:03:58.121460Z",
     "iopub.status.idle": "2021-03-28T15:04:08.494634Z",
     "shell.execute_reply": "2021-03-28T15:04:08.495471Z"
    },
    "papermill": {
     "duration": 12.363804,
     "end_time": "2021-03-28T15:04:08.495753",
     "exception": false,
     "start_time": "2021-03-28T15:03:56.131949",
     "status": "completed"
    },
    "tags": []
   },
   "outputs": [],
   "source": [
    "model_dt = tree.DecisionTreeClassifier(criterion=\"entropy\")\n",
    "#dùng tiêu chí \n",
    "model_dt.fit(X_train_, Y_train_)\n",
    "y_pred_dt = model_dt.predict(X_val_)"
   ]
  },
  {
   "cell_type": "code",
   "execution_count": 17,
   "metadata": {
    "execution": {
     "iopub.execute_input": "2021-03-28T15:04:12.466651Z",
     "iopub.status.busy": "2021-03-28T15:04:12.465890Z",
     "iopub.status.idle": "2021-03-28T15:04:12.472803Z",
     "shell.execute_reply": "2021-03-28T15:04:12.471792Z"
    },
    "papermill": {
     "duration": 1.990282,
     "end_time": "2021-03-28T15:04:12.473010",
     "exception": false,
     "start_time": "2021-03-28T15:04:10.482728",
     "status": "completed"
    },
    "tags": []
   },
   "outputs": [
    {
     "name": "stdout",
     "output_type": "stream",
     "text": [
      "hold-out: 0.859\n"
     ]
    }
   ],
   "source": [
    "print(\"hold-out: %.3f\" % accuracy_score(Y_val_, y_pred_dt))\n",
    "#hold-out: 0.859"
   ]
  }
 ],
 "metadata": {
  "kernelspec": {
   "display_name": "Python 3",
   "language": "python",
   "name": "python3"
  },
  "language_info": {
   "codemirror_mode": {
    "name": "ipython",
    "version": 3
   },
   "file_extension": ".py",
   "mimetype": "text/x-python",
   "name": "python",
   "nbconvert_exporter": "python",
   "pygments_lexer": "ipython3",
   "version": "3.7.9"
  },
  "papermill": {
   "default_parameters": {},
   "duration": 655.982149,
   "end_time": "2021-03-28T15:04:15.913927",
   "environment_variables": {},
   "exception": null,
   "input_path": "__notebook__.ipynb",
   "output_path": "__notebook__.ipynb",
   "parameters": {},
   "start_time": "2021-03-28T14:53:19.931778",
   "version": "2.2.2"
  }
 },
 "nbformat": 4,
 "nbformat_minor": 4
}